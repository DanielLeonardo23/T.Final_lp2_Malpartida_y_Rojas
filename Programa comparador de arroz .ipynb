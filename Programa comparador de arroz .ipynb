{
 "cells": [
  {
   "cell_type": "markdown",
   "id": "a53ec227",
   "metadata": {},
   "source": [
    "# <font color=\"#008B8B\"><center>Trabajo Final Lenguaje de Programación 2</center></font>\n",
    "\n",
    "## <font color=\"#008B8B\">Integrantes</font>\n",
    "* Malpartida Ramírez, Leonardo Daniel 20191306\n",
    "* Rojas De La Peña, Milady Esthefani 20191311 \n",
    "\n",
    "\n",
    "## <font color=\"#008B8B\">Introducción</font>\n",
    "El siguiente trabajo es un programa que compara los precios del producto Arroz, usted puede ingresar la palabra arroz y le mostrará todos los precios de arroz de los 3 supermercados, también puede ingresar arroz + \"marca\" (arroz gran chalan, arroz paisana...etc) o incluso puede ser más específico y poner un nombre específico (arroz extra natural gran chalan,..etc), si desea ser más específico puede especificarle el peso (arroz superior paisana 5kg); por último el programa le envía la información\n",
    "solicitada a su correo electrónico.\n",
    "\n",
    "Los precios de los productos que vamos a comparar en este trabajo son de los siguientes Supermercados:\n",
    "* Metro\n",
    "* Tottus\n",
    "* Plaza Vea\n",
    "\n",
    "\n",
    "## <font color=\"#008B8B\">Requisitos</font>\n",
    "\n",
    "+ Instalar el paquete selenium, use (!pip install selenium)\n",
    "+ Instalar el paquete redmail, use (!pip install redmail)\n",
    "+ Descargar e instalar el software chromedriver.exe (https://sites.google.com/chromium.org/driver/downloads?authuser=0), descargar la versión que tenga usted de Google Chrome. \n",
    "+ Activar la aceleración de hardware (chrome://settings/system).\n",
    "+ Ir a chrome://flags/ y activar las opciones que contengan Webgl.\n",
    "+ Cambiar la ruta donde usted tenga el chromedriver.exe.\n",
    "+ Se recomienda que el software chromedriver.exe debe estar en la carpeta de trabajo donde correra este ipynb.\n",
    "+ Si desea cambiar el email emisor(el que envia la información pedida) , tiene que activar la verificacion en 2 pasos de su cuenta y generar una contraseña (https://myaccount.google.com/u/4/apppasswords).\n",
    "+ El email receptor puede ser de cualquier tipo (gmail,hotmail,yopmail...etc.).\n",
    "\n",
    "![](https://www.eluniversal.com.mx/sites/default/files/2017/03/16/arroz_el_universal_menu_istock.jpg)\n"
   ]
  },
  {
   "cell_type": "markdown",
   "id": "8306627d",
   "metadata": {},
   "source": [
    "## <font color=\"#008B8B\">Paquetes</font>"
   ]
  },
  {
   "cell_type": "code",
   "execution_count": 1,
   "id": "25d61d60",
   "metadata": {},
   "outputs": [],
   "source": [
    "#Para el webscrapping y configurar el webdriver de Selenium\n",
    "from selenium import webdriver                         #Importamos el navegador web (Webdriver) de selenium\n",
    "from selenium.webdriver.common.keys import Keys        #Importamos Keys, para que el servidor nos devuelva una respuesta\n",
    "from selenium.webdriver.common.by import By            #Importamos By, para extraer etiquetas por el método XPATH\n",
    "from selenium.webdriver.chrome.service import Service  #Importamos service\n",
    "from pathlib import Path                               #Importamos path, para colocar la ruta de nuestro web driver\n",
    "\n",
    "#Libreria de tiempo de python\n",
    "import time                                            #Importamos time para controlar el tiempo \n",
    "\n",
    "#Pandas, para convertir a dataframe nuestros datos\n",
    "import pandas as pd                                    \n",
    "\n",
    "#Para el envio de información a traves de correos\n",
    "from redmail import gmail "
   ]
  }
 ],
 "metadata": {
  "kernelspec": {
   "display_name": "Python 3 (ipykernel)",
   "language": "python",
   "name": "python3"
  },
  "language_info": {
   "codemirror_mode": {
    "name": "ipython",
    "version": 3
   },
   "file_extension": ".py",
   "mimetype": "text/x-python",
   "name": "python",
   "nbconvert_exporter": "python",
   "pygments_lexer": "ipython3",
   "version": "3.9.7"
  }
 },
 "nbformat": 4,
 "nbformat_minor": 5
}
